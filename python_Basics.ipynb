{
 "cells": [
  {
   "cell_type": "markdown",
   "id": "ae8a94d5",
   "metadata": {},
   "source": [
    "# List "
   ]
  },
  {
   "cell_type": "code",
   "execution_count": 1,
   "id": "3eec5036",
   "metadata": {},
   "outputs": [],
   "source": [
    "numbers_list = [10, 20, 30, 40, 50]\n",
    "fruits_list = ['apple', 'banana', 'cherry', 'orange', 'kiwi']"
   ]
  },
  {
   "cell_type": "code",
   "execution_count": 2,
   "id": "b07f9628",
   "metadata": {},
   "outputs": [
    {
     "data": {
      "text/plain": [
       "30"
      ]
     },
     "execution_count": 2,
     "metadata": {},
     "output_type": "execute_result"
    }
   ],
   "source": [
    "#1) How do you access the third element in the numbers_list?\n",
    "numbers_list[2]"
   ]
  },
  {
   "cell_type": "code",
   "execution_count": 3,
   "id": "6484fd90",
   "metadata": {},
   "outputs": [
    {
     "name": "stdout",
     "output_type": "stream",
     "text": [
      "[10, 20, 30, 40, 50, 60]\n"
     ]
    }
   ],
   "source": [
    "#2) Write a program to add a new number (60) to the numbers_list.\n",
    "numbers_list.append(60)\n",
    "print (numbers_list)"
   ]
  },
  {
   "cell_type": "code",
   "execution_count": 4,
   "id": "9af849d5",
   "metadata": {},
   "outputs": [
    {
     "name": "stdout",
     "output_type": "stream",
     "text": [
      "['apple', 'banana', 'orange', 'kiwi']\n"
     ]
    }
   ],
   "source": [
    "#3) Remove 'cherry' from the fruits_list.\n",
    "fruits_list.pop(2)\n",
    "print (fruits_list)"
   ]
  },
  {
   "cell_type": "code",
   "execution_count": 5,
   "id": "a005ff57",
   "metadata": {},
   "outputs": [
    {
     "name": "stdout",
     "output_type": "stream",
     "text": [
      "6\n"
     ]
    }
   ],
   "source": [
    "#4) What is the length of the numbers_list? \n",
    "print (len(numbers_list))\n",
    "\n",
    "# initially numbers_list length is 5, but when you append any values it will returns value as 6. "
   ]
  },
  {
   "cell_type": "code",
   "execution_count": 6,
   "id": "59976d05",
   "metadata": {},
   "outputs": [
    {
     "name": "stdout",
     "output_type": "stream",
     "text": [
      "Yes, banana is present in the fruits_list\n"
     ]
    }
   ],
   "source": [
    "#5) Check if 'banana' is present in the fruits_list.\n",
    "fruits_list = ['apple', 'banana', 'cherry', 'orange', 'kiwi']\n",
    "if \"banana\" in fruits_list:\n",
    "    print (\"Yes, banana is present in the fruits_list\")\n",
    "else:\n",
    "    print (\"Banana is not available in the fruits_list\")"
   ]
  },
  {
   "cell_type": "code",
   "execution_count": 7,
   "id": "f49a5e51",
   "metadata": {},
   "outputs": [
    {
     "data": {
      "text/plain": [
       "[10, 20, 30, 40, 50, 60]"
      ]
     },
     "execution_count": 7,
     "metadata": {},
     "output_type": "execute_result"
    }
   ],
   "source": [
    "#6) Create a new list that contains numbers from 1 to 5 using list comprehension.\n",
    "numbers_list.copy()"
   ]
  },
  {
   "cell_type": "markdown",
   "id": "e41be839",
   "metadata": {},
   "source": [
    "# Tuples\n"
   ]
  },
  {
   "cell_type": "code",
   "execution_count": 8,
   "id": "31e21d1a",
   "metadata": {},
   "outputs": [],
   "source": [
    "employee_tuple = ('John Doe', 'Marketing', 50000)\n",
    "coordinates_tuple = (3, 4)"
   ]
  },
  {
   "cell_type": "code",
   "execution_count": 9,
   "id": "bce88e5f",
   "metadata": {},
   "outputs": [
    {
     "data": {
      "text/plain": [
       "'Marketing'"
      ]
     },
     "execution_count": 9,
     "metadata": {},
     "output_type": "execute_result"
    }
   ],
   "source": [
    "#1) Access the second element of the employee_tuple.\n",
    "employee_tuple[1]"
   ]
  },
  {
   "cell_type": "code",
   "execution_count": 10,
   "id": "a662f5cf",
   "metadata": {},
   "outputs": [],
   "source": [
    "#2) Can you modify the elements of a tuple? Why or why not?\n",
    "#--> No, Directly we can't modify the tuple, because tuples are immutable datatypes. \n",
    "#--> We can modify the tuples by converting by them to list and again convrting them back to the tuples, using constructors. "
   ]
  },
  {
   "cell_type": "code",
   "execution_count": 11,
   "id": "7011b1b2",
   "metadata": {},
   "outputs": [
    {
     "data": {
      "text/plain": [
       "12"
      ]
     },
     "execution_count": 11,
     "metadata": {},
     "output_type": "execute_result"
    }
   ],
   "source": [
    "#3) Calculate the product of elements in the coordinates_tuple. \n",
    "coordinates_tuple = (3, 4)\n",
    "coordinates_tuple[0]*coordinates_tuple[1]"
   ]
  },
  {
   "cell_type": "code",
   "execution_count": 12,
   "id": "efd8aad2",
   "metadata": {},
   "outputs": [
    {
     "name": "stdout",
     "output_type": "stream",
     "text": [
      "('John Doe', 'Marketing', 50000)\n",
      "<class 'tuple'>\n",
      "['John Doe', 'Marketing', 50000]\n",
      "<class 'list'>\n"
     ]
    }
   ],
   "source": [
    "#4) Convert the employee_tuple into a list.\n",
    "employee_tuple = ('John Doe', 'Marketing', 50000)\n",
    "print (employee_tuple)\n",
    "print (type(employee_tuple))\n",
    "employee_tuple = list (('John Doe', 'Marketing', 50000))\n",
    "print (employee_tuple)\n",
    "print (type(employee_tuple))"
   ]
  },
  {
   "cell_type": "code",
   "execution_count": 13,
   "id": "edaf62de",
   "metadata": {},
   "outputs": [
    {
     "name": "stdout",
     "output_type": "stream",
     "text": [
      "(3, 4)\n",
      "5 is not present in the coordinates_tuple\n"
     ]
    }
   ],
   "source": [
    "#5) Check if the value 5 is present in the coordinates_tuple.\n",
    "coordinates_tuple = (3, 4)\n",
    "print (coordinates_tuple)\n",
    "if 5 in coordinates_tuple:\n",
    "    print (\"5 is present in the coordinates_tuple\")\n",
    "else:\n",
    "    print (\"5 is not present in the coordinates_tuple\")"
   ]
  },
  {
   "cell_type": "code",
   "execution_count": 14,
   "id": "da73389e",
   "metadata": {},
   "outputs": [
    {
     "name": "stdout",
     "output_type": "stream",
     "text": [
      "(1, 2, 3, 4, 5, 6)\n"
     ]
    }
   ],
   "source": [
    "#6) Create a new tuple by concatenating two tuples (1, 2, 3) and (4, 5, 6).\n",
    "tuple1 = (1,2,3)\n",
    "tuple2 = (4,5,6)\n",
    "tuple3 = tuple1+tuple2\n",
    "print (tuple3)"
   ]
  },
  {
   "cell_type": "markdown",
   "id": "f1dee3d3",
   "metadata": {},
   "source": [
    "# Sets "
   ]
  },
  {
   "cell_type": "code",
   "execution_count": 15,
   "id": "8170cf72",
   "metadata": {},
   "outputs": [],
   "source": [
    "even_numbers_set = {2, 4, 6, 8, 10}\n",
    "prime_numbers_set = {2, 3, 5, 7, 11}"
   ]
  },
  {
   "cell_type": "code",
   "execution_count": 16,
   "id": "7e71eadc",
   "metadata": {},
   "outputs": [
    {
     "data": {
      "text/plain": [
       "{2}"
      ]
     },
     "execution_count": 16,
     "metadata": {},
     "output_type": "execute_result"
    }
   ],
   "source": [
    "#1) Find the intersection of even_numbers_set and prime_numbers_set.\n",
    "even_numbers_set.intersection(prime_numbers_set)"
   ]
  },
  {
   "cell_type": "code",
   "execution_count": 17,
   "id": "b3cf7b30",
   "metadata": {},
   "outputs": [
    {
     "data": {
      "text/plain": [
       "{2, 3, 5, 7, 11, 12}"
      ]
     },
     "execution_count": 17,
     "metadata": {},
     "output_type": "execute_result"
    }
   ],
   "source": [
    "#2) Add 12 to the prime_numbers_set.\n",
    "prime_numbers_set.add(12)\n",
    "prime_numbers_set"
   ]
  },
  {
   "cell_type": "code",
   "execution_count": 18,
   "id": "5bb92cc3",
   "metadata": {},
   "outputs": [
    {
     "name": "stdout",
     "output_type": "stream",
     "text": [
      "{2, 4, 8, 10}\n"
     ]
    }
   ],
   "source": [
    "#3) Remove 6 from the even_numbers_set.\n",
    "even_numbers_set.remove(6)\n",
    "print (even_numbers_set)"
   ]
  },
  {
   "cell_type": "code",
   "execution_count": 19,
   "id": "0834ec25",
   "metadata": {},
   "outputs": [
    {
     "name": "stdout",
     "output_type": "stream",
     "text": [
      "{2, 3, 5, 7, 11}\n",
      "9 is not present in the prime_number_list\n"
     ]
    }
   ],
   "source": [
    "#4) Check if 9 is present in the prime_numbers_set.\n",
    "prime_numbers_set = {2, 3, 5, 7, 11}\n",
    "print (prime_numbers_set)\n",
    "if 9 in prime_numbers_set:\n",
    "    print (\"9 is present in the prime_number_list\")\n",
    "else:\n",
    "    print (\"9 is not present in the prime_number_list\")"
   ]
  },
  {
   "cell_type": "code",
   "execution_count": 20,
   "id": "97052f3d",
   "metadata": {},
   "outputs": [
    {
     "data": {
      "text/plain": [
       "{2, 3, 4, 5, 7, 8, 10, 11}"
      ]
     },
     "execution_count": 20,
     "metadata": {},
     "output_type": "execute_result"
    }
   ],
   "source": [
    "#5) Calculate the union of even_numbers_set and prime_numbers_set. \n",
    "even_numbers_set.union(prime_numbers_set)"
   ]
  },
  {
   "cell_type": "code",
   "execution_count": 21,
   "id": "661e484a",
   "metadata": {},
   "outputs": [
    {
     "data": {
      "text/plain": [
       "{1, 2, 3, 4, 5, 6}"
      ]
     },
     "execution_count": 21,
     "metadata": {},
     "output_type": "execute_result"
    }
   ],
   "source": [
    "#6) Create a new set with the unique elements from [1, 2, 2, 3, 4, 5, 5, 6].\n",
    "set1 = {1,2,3,4,5,5,6}\n",
    "set1\n",
    "# [1, 2, 2, 3, 4, 5, 5, 6] in the given list 8 elements are present and the sets don't accept the duplicates, so the output will be\n",
    "#output: {1, 2, 3, 4, 5, 6}"
   ]
  },
  {
   "cell_type": "markdown",
   "id": "dde2c757",
   "metadata": {},
   "source": [
    "# Dictionaries "
   ]
  },
  {
   "cell_type": "code",
   "execution_count": 22,
   "id": "2402491a",
   "metadata": {},
   "outputs": [],
   "source": [
    "student_scores = {'Alice': 85, 'Bob': 78, 'Charlie': 92, 'David': 68, 'Emma': 95}\n",
    "product_prices = {'apple': 1.99, 'banana': 0.99, 'orange': 1.49}"
   ]
  },
  {
   "cell_type": "code",
   "execution_count": 23,
   "id": "bf1d4b7e",
   "metadata": {},
   "outputs": [
    {
     "data": {
      "text/plain": [
       "92"
      ]
     },
     "execution_count": 23,
     "metadata": {},
     "output_type": "execute_result"
    }
   ],
   "source": [
    "#1) Access the score of 'Charlie' in the student_scores dictionary.\n",
    "student_scores[\"Charlie\"]"
   ]
  },
  {
   "cell_type": "code",
   "execution_count": 24,
   "id": "4e548766",
   "metadata": {},
   "outputs": [
    {
     "name": "stdout",
     "output_type": "stream",
     "text": [
      "Total price: 9.44\n"
     ]
    }
   ],
   "source": [
    "#2) Calculate the total price if you buy 3 apples, 2 bananas, and 1 orange.\n",
    "product_prices = {'apple': 1.99, 'banana': 0.99, 'orange': 1.49}\n",
    "product_prices = {'apple': 1.99, 'banana': 0.99, 'orange': 1.49}\n",
    "quantities = {'apple': 3, 'banana': 2, 'orange': 1}\n",
    "total_price = sum(quantities[item] * product_prices[item] for item in quantities)\n",
    "print(\"Total price:\", total_price)"
   ]
  },
  {
   "cell_type": "code",
   "execution_count": 25,
   "id": "8a0e465e",
   "metadata": {},
   "outputs": [
    {
     "name": "stdout",
     "output_type": "stream",
     "text": [
      "{'Alice': 85, 'Bob': 78, 'Charlie': 92, 'David': 68, 'Emma': 95, 'Frank': 80}\n"
     ]
    }
   ],
   "source": [
    "#3) Add a new student 'Frank' with a score of 80 to the student_scores dictionary. \n",
    "student_scores = {'Alice': 85, 'Bob': 78, 'Charlie': 92, 'David': 68, 'Emma': 95}\n",
    "student_scores[\"Frank\"] = 80\n",
    "print (student_scores)"
   ]
  },
  {
   "cell_type": "code",
   "execution_count": 26,
   "id": "05173132",
   "metadata": {},
   "outputs": [
    {
     "name": "stdout",
     "output_type": "stream",
     "text": [
      "{'apple': 1.99, 'banana': 0.99, 'orange': 1.49}\n",
      "{'apple': 1.99, 'orange': 1.49}\n"
     ]
    }
   ],
   "source": [
    "#4) Remove 'banana' from the product_prices dictionary.\n",
    "product_prices = {'apple': 1.99, 'banana': 0.99, 'orange': 1.49}\n",
    "print (product_prices)\n",
    "product_prices.pop(\"banana\")\n",
    "print (product_prices)"
   ]
  },
  {
   "cell_type": "code",
   "execution_count": 27,
   "id": "709539c2",
   "metadata": {},
   "outputs": [
    {
     "name": "stdout",
     "output_type": "stream",
     "text": [
      "{'Alice': 85, 'Bob': 78, 'Charlie': 92, 'David': 68, 'Emma': 95}\n",
      "Alice is present Student_list\n"
     ]
    }
   ],
   "source": [
    "#5) Check if 'Alice' is present in the student_scores dictionary.\n",
    "student_scores = {'Alice': 85, 'Bob': 78, 'Charlie': 92, 'David': 68, 'Emma': 95}\n",
    "print (student_scores)\n",
    "if \"Alice\" in student_scores:\n",
    "    print (\"Alice is present Student_list\")\n",
    "else:\n",
    "    print (\"Alice is present Student_list\")"
   ]
  },
  {
   "cell_type": "code",
   "execution_count": 28,
   "id": "2284d069",
   "metadata": {},
   "outputs": [
    {
     "name": "stdout",
     "output_type": "stream",
     "text": [
      "{1: 1, 2: 4, 3: 9, 4: 16, 5: 25}\n"
     ]
    }
   ],
   "source": [
    "#6) Create a new dictionary with the squares of numbers from 1 to 5 as keys.\n",
    "Dictsq = {1:1, 2:4, 3:9, 4:16, 5:25}\n",
    "print (Dictsq)"
   ]
  },
  {
   "cell_type": "markdown",
   "id": "3a6d94e3",
   "metadata": {},
   "source": [
    "# DataTypes and Variables"
   ]
  },
  {
   "cell_type": "code",
   "execution_count": 29,
   "id": "e06d72f3",
   "metadata": {},
   "outputs": [],
   "source": [
    "#1)What are the different data types used in Python?\n",
    "#Ans-> There are manily two types of the datatypes i. Mutuable datatypes ii. Immutable datatypes \n",
    "# Mutuable datatypes -> The data entered values we can change anytime, [List], {Dictionaries}\n",
    "# Immutable datatypes -> The data enterted values we cant change., (Tuples), {Sets}\n",
    "# Datatypes -> Numeric Datatypes, Logical datattypes, Strings, Boolean values, sequencial "
   ]
  },
  {
   "cell_type": "code",
   "execution_count": 30,
   "id": "f86058f3",
   "metadata": {},
   "outputs": [],
   "source": [
    "#2) Define a variable named 'message' and assign it the value \"Hello, World!\".\n",
    "#Variable = \"Variable is a name, which is used to refer the particular memory location\"\n",
    "message = \"Hello World!\""
   ]
  },
  {
   "cell_type": "code",
   "execution_count": 31,
   "id": "3aa5d353",
   "metadata": {},
   "outputs": [
    {
     "name": "stdout",
     "output_type": "stream",
     "text": [
      "<class 'int'>\n",
      "<class 'str'>\n"
     ]
    }
   ],
   "source": [
    "#3) Convert the string \"123\" to an integer.\n",
    "num= 123\n",
    "print (type(num))\n",
    "num=\"123\"\n",
    "print (type(num))"
   ]
  },
  {
   "cell_type": "code",
   "execution_count": 32,
   "id": "16c75d84",
   "metadata": {},
   "outputs": [
    {
     "name": "stdout",
     "output_type": "stream",
     "text": [
      "<class 'str'>\n"
     ]
    }
   ],
   "source": [
    "#4) Check if the variable 'message' is of type string.\n",
    "print (type(message))"
   ]
  },
  {
   "cell_type": "code",
   "execution_count": 33,
   "id": "7b7e99f9",
   "metadata": {},
   "outputs": [
    {
     "data": {
      "text/plain": [
       "3.3333333333333335"
      ]
     },
     "execution_count": 33,
     "metadata": {},
     "output_type": "execute_result"
    }
   ],
   "source": [
    "#5) Calculate the result of 10 divided by 3 using floating-point division.\n",
    "num1 = float(10)/3\n",
    "num1"
   ]
  },
  {
   "cell_type": "code",
   "execution_count": 34,
   "id": "48753a67",
   "metadata": {},
   "outputs": [
    {
     "name": "stdout",
     "output_type": "stream",
     "text": [
      "is_valid\n"
     ]
    }
   ],
   "source": [
    "#6) Create a boolean variable named 'is_valid' and set it to True.\n",
    "a = \"is_valid\"\n",
    "if a in \"is_valid\":\n",
    "    print (a)"
   ]
  },
  {
   "cell_type": "markdown",
   "id": "1847fc18",
   "metadata": {},
   "source": [
    "# For loop "
   ]
  },
  {
   "cell_type": "code",
   "execution_count": 35,
   "id": "3f6210fa",
   "metadata": {},
   "outputs": [
    {
     "name": "stdout",
     "output_type": "stream",
     "text": [
      "1\n",
      "2\n",
      "3\n",
      "4\n",
      "5\n",
      "6\n",
      "7\n",
      "8\n",
      "9\n",
      "10\n"
     ]
    }
   ],
   "source": [
    "#1) Write a program to print numbers from 1 to 10 using a for loop. \n",
    "for i in range(1,11):\n",
    "    print(i)"
   ]
  },
  {
   "cell_type": "code",
   "execution_count": 36,
   "id": "a7a506e0",
   "metadata": {},
   "outputs": [
    {
     "name": "stdout",
     "output_type": "stream",
     "text": [
      "The total sum:  5050\n"
     ]
    }
   ],
   "source": [
    "#2) Calculate the sum of numbers from 1 to 100 using a for loop. \n",
    "total =0\n",
    "for i in range(1,101):\n",
    "    total += i\n",
    "print (\"The total sum: \", total)\n"
   ]
  },
  {
   "cell_type": "code",
   "execution_count": 37,
   "id": "cc0d7ca9",
   "metadata": {},
   "outputs": [
    {
     "name": "stdout",
     "output_type": "stream",
     "text": [
      "apple\n",
      "banana\n",
      "cherry\n",
      "orange\n",
      "kiwi\n"
     ]
    }
   ],
   "source": [
    "#3) Print the elements of the fruits_list using a for loop.\n",
    "for a in fruits_list:\n",
    "    print(a)"
   ]
  },
  {
   "cell_type": "code",
   "execution_count": 42,
   "id": "43c82fa2",
   "metadata": {},
   "outputs": [
    {
     "name": "stdout",
     "output_type": "stream",
     "text": [
      "Enter any number: 6\n",
      "The factorial of the number is: 720\n"
     ]
    }
   ],
   "source": [
    "#4) Calculate the factorial of a number using a for loop.\n",
    "n = int(input(\"Enter any number: \"))\n",
    "f = 1\n",
    "for i in range(n, 0, -1):\n",
    "    f *= i\n",
    "print (\"The factorial of the number is:\",f)"
   ]
  },
  {
   "cell_type": "code",
   "execution_count": 39,
   "id": "cb15241a",
   "metadata": {},
   "outputs": [
    {
     "name": "stdout",
     "output_type": "stream",
     "text": [
      "Alice\n",
      "Bob\n",
      "Charlie\n",
      "David\n",
      "Emma\n"
     ]
    }
   ],
   "source": [
    "#5) Print the keys of the student_scores dictionary using a for loop.\n",
    "for k in student_scores:\n",
    "    print (k)"
   ]
  },
  {
   "cell_type": "code",
   "execution_count": 40,
   "id": "d070d15d",
   "metadata": {},
   "outputs": [
    {
     "name": "stdout",
     "output_type": "stream",
     "text": [
      "The total average of the list: 30.0\n"
     ]
    }
   ],
   "source": [
    "#6) Write a program to find the average of numbers in the numbers_list using a for loop\n",
    "numbers_list = [10, 20, 30, 40, 50]\n",
    "\n",
    "total = 0\n",
    "count = 0\n",
    "for number in numbers_list:\n",
    "    total += number\n",
    "    count += 1\n",
    "Average= total/count\n",
    "print (\"The total average of the list:\",Average)"
   ]
  },
  {
   "cell_type": "markdown",
   "id": "4a1578a3",
   "metadata": {},
   "source": [
    "# If_Else Statement"
   ]
  },
  {
   "cell_type": "code",
   "execution_count": 43,
   "id": "1619b28d",
   "metadata": {},
   "outputs": [
    {
     "name": "stdout",
     "output_type": "stream",
     "text": [
      "Positive Number\n"
     ]
    }
   ],
   "source": [
    "#1) Write a program to check if a number is positive, negative, or zero. \n",
    "a = 12\n",
    "b = -12\n",
    "c = 0 \n",
    "if a == 12:\n",
    "    print (\"Positive Number\")\n",
    "elif b == -12:\n",
    "    print (\"Negative number\")\n",
    "elif c == 0:\n",
    "    print (\"The number is zero\")\n",
    "else:\n",
    "    print (\"No numbers are available\")"
   ]
  },
  {
   "cell_type": "code",
   "execution_count": 51,
   "id": "f0e16c5c",
   "metadata": {},
   "outputs": [
    {
     "name": "stdout",
     "output_type": "stream",
     "text": [
      "The year:2014\n",
      "The year is not a leap year\n"
     ]
    }
   ],
   "source": [
    "#2) Check if a given year is a leap year or not.\n",
    "n = int(input(\"The year:\"))\n",
    "if n%4==0:\n",
    "    print (\"The year is a leap year\")\n",
    "else:\n",
    "    print (\"The year is not a leap year\")"
   ]
  },
  {
   "cell_type": "code",
   "execution_count": 54,
   "id": "bba681bb",
   "metadata": {},
   "outputs": [
    {
     "name": "stdout",
     "output_type": "stream",
     "text": [
      "The highest number between 20&30&40 is 40\n"
     ]
    }
   ],
   "source": [
    "#3) Find the maximum of three numbers using if-else statements.\n",
    "a = 20\n",
    "b = 30\n",
    "c = 40\n",
    "if c>b>a:\n",
    "    print (\"The highest number between 20&30&40 is 40\")\n",
    "else:\n",
    "    print (\"The lowest number between 20&30&40 is 20\")\n",
    "    \n"
   ]
  },
  {
   "cell_type": "code",
   "execution_count": 55,
   "id": "6b9ab1f7",
   "metadata": {},
   "outputs": [
    {
     "name": "stdout",
     "output_type": "stream",
     "text": [
      "The key is present in the employee_tuple at index 1\n"
     ]
    }
   ],
   "source": [
    "#4) Check if a key is present in the employee_tuple.\n",
    "employee_tuple = ('John Doe', 'Marketing', 50000)\n",
    "index = 1\n",
    "# Assuming 'Marketing' is the key you want to check\n",
    "if index < len(employee_tuple):\n",
    "    print(\"The key is present in the employee_tuple at index\", index)\n",
    "else:\n",
    "    print(\"The key is not present in the employee_tuple\")"
   ]
  },
  {
   "cell_type": "code",
   "execution_count": 64,
   "id": "b45a6878",
   "metadata": {},
   "outputs": [
    {
     "name": "stdout",
     "output_type": "stream",
     "text": [
      "Alice passed with a score of 85\n",
      "Bob passed with a score of 78\n",
      "Charlie passed with a score of 92\n",
      "David failed with a score of 59\n",
      "Emma passed with a score of 95\n",
      "Sam failed with a score of 33\n"
     ]
    }
   ],
   "source": [
    "#5) Determine if a student passed or failed based on their score.\n",
    "student_scores = {'Alice': 85, 'Bob': 78, 'Charlie': 92, 'David': 59, 'Emma': 95, \"Sam\":33}\n",
    "passing_criteria = 60  # Define passing threshold\n",
    "\n",
    "for student, score in student_scores.items():\n",
    "    if score >= passing_threshold:\n",
    "        print(student, \"passed with a score of\", score)\n",
    "    else:\n",
    "        print(student, \"failed with a score of\", score)"
   ]
  },
  {
   "cell_type": "code",
   "execution_count": 73,
   "id": "f3c6a7b8",
   "metadata": {},
   "outputs": [
    {
     "name": "stdout",
     "output_type": "stream",
     "text": [
      "10 20 10\n",
      "The given triangle is isoscales triangle\n"
     ]
    }
   ],
   "source": [
    "#6) Write a program to classify a triangle as equilateral, isosceles, or scalene based on side lengths.\n",
    "x=10 \n",
    "y=20\n",
    "z=10\n",
    "print (x,y,z)\n",
    "if x == y == z:\n",
    "    print (\"The given triangle is equilateral triangle\")\n",
    "elif x == y or x == z or y == z:\n",
    "    print(\"The given triangle is isoscales triangle\")\n",
    "else:\n",
    "    print (\"Scalene Triangle\")\n",
    "    \n",
    "# as you are changing the values of the x,y,z, it results in the different types of the triangles. "
   ]
  },
  {
   "cell_type": "code",
   "execution_count": null,
   "id": "2183893d",
   "metadata": {},
   "outputs": [],
   "source": []
  }
 ],
 "metadata": {
  "kernelspec": {
   "display_name": "Python 3 (ipykernel)",
   "language": "python",
   "name": "python3"
  },
  "language_info": {
   "codemirror_mode": {
    "name": "ipython",
    "version": 3
   },
   "file_extension": ".py",
   "mimetype": "text/x-python",
   "name": "python",
   "nbconvert_exporter": "python",
   "pygments_lexer": "ipython3",
   "version": "3.9.12"
  }
 },
 "nbformat": 4,
 "nbformat_minor": 5
}
